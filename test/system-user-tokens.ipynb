{
 "cells": [
  {
   "cell_type": "code",
   "execution_count": null,
   "metadata": {},
   "outputs": [],
   "source": [
    "from urllib3.util import Retry\n",
    "from requests import Session\n",
    "from requests.adapters import HTTPAdapter\n",
    "import pandas as pd\n",
    "from time import sleep\n",
    "\n",
    "s = Session()\n",
    "retries = Retry(\n",
    "    total=3,\n",
    "    backoff_factor=0.1,\n",
    "    status_forcelist=[502, 503, 504],\n",
    "    allowed_methods={'POST'},\n",
    ")\n",
    "s.mount('https://', HTTPAdapter(max_retries=retries))"
   ]
  },
  {
   "cell_type": "code",
   "execution_count": null,
   "metadata": {},
   "outputs": [],
   "source": [
    "token_list = []"
   ]
  },
  {
   "cell_type": "code",
   "execution_count": null,
   "metadata": {},
   "outputs": [],
   "source": [
    "API_ENDPOINT = \"http://localhost:8000/auth/signin/\"\n",
    "\n",
    "for i in range(1, 6001):\n",
    "   if i % 50 == 0:\n",
    "      print(\"Getting token for user \" + str(i))\n",
    "   payload = {\n",
    "      \"username_or_email\": \"system_user_\" + str(i),\n",
    "      \"password\": \"system_user_password\"\n",
    "   }\n",
    "   response = s.post(API_ENDPOINT, json=payload, timeout=2)\n",
    "   if response.status_code == 200:\n",
    "      res_body = response.json()\n",
    "      token_list.append([i, res_body[\"access_token\"], res_body[\"refresh_token\"]])\n",
    "   else:\n",
    "      print(\"Failed to get token for user \" + str(i))\n",
    "   sleep(0.1)\n"
   ]
  },
  {
   "cell_type": "code",
   "execution_count": null,
   "metadata": {},
   "outputs": [],
   "source": [
    "token_list"
   ]
  },
  {
   "cell_type": "code",
   "execution_count": null,
   "metadata": {},
   "outputs": [],
   "source": [
    "token_list_df = pd.DataFrame(token_list, columns=[\"user_id\", \"access_token\", \"refresh_token\"])\n",
    "token_list_df"
   ]
  },
  {
   "cell_type": "code",
   "execution_count": null,
   "metadata": {},
   "outputs": [],
   "source": [
    "token_list_df.to_csv(\"token_list_staging.csv\", index=False)"
   ]
  },
  {
   "cell_type": "code",
   "execution_count": null,
   "metadata": {},
   "outputs": [],
   "source": []
  }
 ],
 "metadata": {
  "kernelspec": {
   "display_name": "backendenv",
   "language": "python",
   "name": "python3"
  },
  "language_info": {
   "codemirror_mode": {
    "name": "ipython",
    "version": 3
   },
   "file_extension": ".py",
   "mimetype": "text/x-python",
   "name": "python",
   "nbconvert_exporter": "python",
   "pygments_lexer": "ipython3",
   "version": "3.11.5"
  }
 },
 "nbformat": 4,
 "nbformat_minor": 2
}
